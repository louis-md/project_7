{
 "cells": [
  {
   "attachments": {},
   "cell_type": "markdown",
   "metadata": {},
   "source": [
    "### Import Libraries"
   ]
  },
  {
   "cell_type": "code",
   "execution_count": 14,
   "metadata": {},
   "outputs": [],
   "source": [
    "from sklearn.naive_bayes import GaussianNB\n",
    "from sklearn.datasets import make_classification\n",
    "import pickle\n",
    "import pandas as pd\n",
    "from sklearn.model_selection import train_test_split, cross_val_score\n",
    "from sklearn.metrics import (\n",
    "    accuracy_score, precision_score, recall_score,\n",
    "    precision_recall_curve, roc_curve, roc_auc_score\n",
    ")\n",
    "import pprint\n",
    "from matplotlib import pyplot as plt\n",
    "from sklearn.utils import resample\n",
    "from model_scoring import scoring"
   ]
  },
  {
   "attachments": {},
   "cell_type": "markdown",
   "metadata": {},
   "source": [
    "### Import Scaler"
   ]
  },
  {
   "cell_type": "code",
   "execution_count": 15,
   "metadata": {},
   "outputs": [],
   "source": [
    "def load(filename = \"scaler.pickle\"): \n",
    "    try: \n",
    "        with open(filename, \"rb\") as f: \n",
    "            return pickle.load(f) \n",
    "\n",
    "    except FileNotFoundError: \n",
    "        print(\"File not found!\")\n",
    "\n",
    "scaler = load(\"scaler.pickle\")"
   ]
  },
  {
   "cell_type": "code",
   "execution_count": 16,
   "metadata": {},
   "outputs": [],
   "source": [
    "data = pd.read_csv('cleaned_data.csv')\n",
    "\n",
    "X = data.drop(['Bankrupt?'], axis=1)\n",
    "y = data['Bankrupt?']"
   ]
  },
  {
   "attachments": {},
   "cell_type": "markdown",
   "metadata": {},
   "source": [
    "### Oversampling"
   ]
  },
  {
   "cell_type": "code",
   "execution_count": 24,
   "metadata": {},
   "outputs": [],
   "source": [
    "# X_train, X_test, y_train, y_test = train_test_split( X, y, test_size=.25, random_state=42)"
   ]
  },
  {
   "cell_type": "code",
   "execution_count": 17,
   "metadata": {},
   "outputs": [],
   "source": [
    "X_train_scaled = scaler.fit(X)\n",
    "X_train_norm = pd.DataFrame(X_train_scaled.transform(X), columns=X.columns)\n",
    "\n",
    "train = pd.concat([X_train_norm, y], axis=1)"
   ]
  },
  {
   "cell_type": "code",
   "execution_count": 19,
   "metadata": {},
   "outputs": [],
   "source": [
    "#  Oversampling\n",
    "\n",
    "yes_bankrupt = train[train['Bankrupt?']==1]\n",
    "no_bankrupt = train[train['Bankrupt?']==0]\n",
    "\n",
    "yes_bankrupt_oversampled = resample(\n",
    "    yes_bankrupt,\n",
    "    replace=True,\n",
    "    n_samples=len(no_bankrupt),\n",
    "    random_state=0,\n",
    ")\n",
    "\n",
    "train_oversampled = pd.concat([no_bankrupt,yes_bankrupt_oversampled],axis=0).dropna()"
   ]
  },
  {
   "cell_type": "code",
   "execution_count": 21,
   "metadata": {},
   "outputs": [],
   "source": [
    "y_train_over = train_oversampled['Bankrupt?'].copy()\n",
    "X_train_over = train_oversampled.drop(['Bankrupt?'], axis=1).copy()"
   ]
  },
  {
   "cell_type": "code",
   "execution_count": 22,
   "metadata": {},
   "outputs": [],
   "source": [
    "X_train, X_test, y_train, y_test = train_test_split(X_train_over, y_train_over, test_size=.25, random_state=42)"
   ]
  },
  {
   "attachments": {},
   "cell_type": "markdown",
   "metadata": {},
   "source": [
    "### Train & Test Model"
   ]
  },
  {
   "cell_type": "code",
   "execution_count": 23,
   "metadata": {},
   "outputs": [
    {
     "data": {
      "text/html": [
       "<style>#sk-container-id-1 {color: black;background-color: white;}#sk-container-id-1 pre{padding: 0;}#sk-container-id-1 div.sk-toggleable {background-color: white;}#sk-container-id-1 label.sk-toggleable__label {cursor: pointer;display: block;width: 100%;margin-bottom: 0;padding: 0.3em;box-sizing: border-box;text-align: center;}#sk-container-id-1 label.sk-toggleable__label-arrow:before {content: \"▸\";float: left;margin-right: 0.25em;color: #696969;}#sk-container-id-1 label.sk-toggleable__label-arrow:hover:before {color: black;}#sk-container-id-1 div.sk-estimator:hover label.sk-toggleable__label-arrow:before {color: black;}#sk-container-id-1 div.sk-toggleable__content {max-height: 0;max-width: 0;overflow: hidden;text-align: left;background-color: #f0f8ff;}#sk-container-id-1 div.sk-toggleable__content pre {margin: 0.2em;color: black;border-radius: 0.25em;background-color: #f0f8ff;}#sk-container-id-1 input.sk-toggleable__control:checked~div.sk-toggleable__content {max-height: 200px;max-width: 100%;overflow: auto;}#sk-container-id-1 input.sk-toggleable__control:checked~label.sk-toggleable__label-arrow:before {content: \"▾\";}#sk-container-id-1 div.sk-estimator input.sk-toggleable__control:checked~label.sk-toggleable__label {background-color: #d4ebff;}#sk-container-id-1 div.sk-label input.sk-toggleable__control:checked~label.sk-toggleable__label {background-color: #d4ebff;}#sk-container-id-1 input.sk-hidden--visually {border: 0;clip: rect(1px 1px 1px 1px);clip: rect(1px, 1px, 1px, 1px);height: 1px;margin: -1px;overflow: hidden;padding: 0;position: absolute;width: 1px;}#sk-container-id-1 div.sk-estimator {font-family: monospace;background-color: #f0f8ff;border: 1px dotted black;border-radius: 0.25em;box-sizing: border-box;margin-bottom: 0.5em;}#sk-container-id-1 div.sk-estimator:hover {background-color: #d4ebff;}#sk-container-id-1 div.sk-parallel-item::after {content: \"\";width: 100%;border-bottom: 1px solid gray;flex-grow: 1;}#sk-container-id-1 div.sk-label:hover label.sk-toggleable__label {background-color: #d4ebff;}#sk-container-id-1 div.sk-serial::before {content: \"\";position: absolute;border-left: 1px solid gray;box-sizing: border-box;top: 0;bottom: 0;left: 50%;z-index: 0;}#sk-container-id-1 div.sk-serial {display: flex;flex-direction: column;align-items: center;background-color: white;padding-right: 0.2em;padding-left: 0.2em;position: relative;}#sk-container-id-1 div.sk-item {position: relative;z-index: 1;}#sk-container-id-1 div.sk-parallel {display: flex;align-items: stretch;justify-content: center;background-color: white;position: relative;}#sk-container-id-1 div.sk-item::before, #sk-container-id-1 div.sk-parallel-item::before {content: \"\";position: absolute;border-left: 1px solid gray;box-sizing: border-box;top: 0;bottom: 0;left: 50%;z-index: -1;}#sk-container-id-1 div.sk-parallel-item {display: flex;flex-direction: column;z-index: 1;position: relative;background-color: white;}#sk-container-id-1 div.sk-parallel-item:first-child::after {align-self: flex-end;width: 50%;}#sk-container-id-1 div.sk-parallel-item:last-child::after {align-self: flex-start;width: 50%;}#sk-container-id-1 div.sk-parallel-item:only-child::after {width: 0;}#sk-container-id-1 div.sk-dashed-wrapped {border: 1px dashed gray;margin: 0 0.4em 0.5em 0.4em;box-sizing: border-box;padding-bottom: 0.4em;background-color: white;}#sk-container-id-1 div.sk-label label {font-family: monospace;font-weight: bold;display: inline-block;line-height: 1.2em;}#sk-container-id-1 div.sk-label-container {text-align: center;}#sk-container-id-1 div.sk-container {/* jupyter's `normalize.less` sets `[hidden] { display: none; }` but bootstrap.min.css set `[hidden] { display: none !important; }` so we also need the `!important` here to be able to override the default hidden behavior on the sphinx rendered scikit-learn.org. See: https://github.com/scikit-learn/scikit-learn/issues/21755 */display: inline-block !important;position: relative;}#sk-container-id-1 div.sk-text-repr-fallback {display: none;}</style><div id=\"sk-container-id-1\" class=\"sk-top-container\"><div class=\"sk-text-repr-fallback\"><pre>GaussianNB()</pre><b>In a Jupyter environment, please rerun this cell to show the HTML representation or trust the notebook. <br />On GitHub, the HTML representation is unable to render, please try loading this page with nbviewer.org.</b></div><div class=\"sk-container\" hidden><div class=\"sk-item\"><div class=\"sk-estimator sk-toggleable\"><input class=\"sk-toggleable__control sk-hidden--visually\" id=\"sk-estimator-id-1\" type=\"checkbox\" checked><label for=\"sk-estimator-id-1\" class=\"sk-toggleable__label sk-toggleable__label-arrow\">GaussianNB</label><div class=\"sk-toggleable__content\"><pre>GaussianNB()</pre></div></div></div></div></div>"
      ],
      "text/plain": [
       "GaussianNB()"
      ]
     },
     "execution_count": 23,
     "metadata": {},
     "output_type": "execute_result"
    }
   ],
   "source": [
    "clf = GaussianNB()\n",
    "\n",
    "clf.fit(X_train, y_train)"
   ]
  },
  {
   "cell_type": "code",
   "execution_count": 24,
   "metadata": {},
   "outputs": [],
   "source": [
    "y_pred = clf.predict(X_test)"
   ]
  },
  {
   "attachments": {},
   "cell_type": "markdown",
   "metadata": {},
   "source": [
    "## SCORING"
   ]
  },
  {
   "cell_type": "code",
   "execution_count": 25,
   "metadata": {},
   "outputs": [],
   "source": [
    "from model_scoring import scoring"
   ]
  },
  {
   "cell_type": "code",
   "execution_count": 26,
   "metadata": {},
   "outputs": [
    {
     "name": "stdout",
     "output_type": "stream",
     "text": [
      "'The accuracy score of the model is: 0.7948484848484848 '\n",
      "'The precision score of the model is: 0.7379172894867962 '\n",
      "'The recall score of the model is: 0.9074754901960784 '\n",
      "'The ROC AUC score of the model is: 0.7960638841867682 '\n"
     ]
    },
    {
     "data": {
      "image/png": "[encoded data removed]",
      "text/plain": [
       "<Figure size 640x480 with 1 Axes>"
      ]
     },
     "metadata": {},
     "output_type": "display_data"
    }
   ],
   "source": [
    "scoring(y_test, y_pred)"
   ]
  },
  {
   "cell_type": "code",
   "execution_count": 41,
   "metadata": {},
   "outputs": [
    {
     "ename": "NameError",
     "evalue": "name 'DTC_model' is not defined",
     "output_type": "error",
     "traceback": [
      "\u001b[1;31m---------------------------------------------------------------------------\u001b[0m",
      "\u001b[1;31mNameError\u001b[0m                                 Traceback (most recent call last)",
      "Cell \u001b[1;32mIn[41], line 1\u001b[0m\n\u001b[1;32m----> 1\u001b[0m DTC_Y_pred \u001b[39m=\u001b[39m DTC_model\u001b[39m.\u001b[39mfit(X_train, Y_train)\n\u001b[0;32m      2\u001b[0m ETC_Y_pred\u001b[39m=\u001b[39m ETC_model\u001b[39m.\u001b[39mfit(X_train, Y_train)\n\u001b[0;32m      4\u001b[0m \u001b[39m# Make predictions on train and test sets\u001b[39;00m\n",
      "\u001b[1;31mNameError\u001b[0m: name 'DTC_model' is not defined"
     ]
    }
   ],
   "source": [
    "DTC_Y_pred = DTC_model.fit(X_train, Y_train)\n",
    "ETC_Y_pred= ETC_model.fit(X_train, Y_train)\n",
    "\n",
    "# Make predictions on train and test sets\n",
    "DTC_train_prediction = DTC_model.predict(X_train)\n",
    "DTC_test_prediction = DTC_model.predict(X_test)\n",
    "\n",
    "ETC_train_prediction = ETC_model.predict(X_train)\n",
    "ETC_test_prediction = ETC_model.predict(X_test)\n",
    "\n",
    "# Evaluation metrics for DecisionTreeClassifier\n",
    "DTC_train_accuracy = accuracy_score(Y_train, DTC_train_prediction)\n",
    "DTC_train_precision = precision_score(Y_train, DTC_train_prediction)\n",
    "DTC_train_recall = recall_score(Y_train, DTC_train_prediction)\n",
    "\n",
    "DTC_test_accuracy = accuracy_score(Y_test, DTC_test_prediction)\n",
    "DTC_test_precision = precision_score(Y_test, DTC_test_prediction)\n",
    "DTC_test_recall = recall_score(Y_test, DTC_test_prediction)\n",
    "\n",
    "\n",
    "# Evaluation metrics for ExtraTreesClassifier\n",
    "ETC_train_accuracy = accuracy_score(Y_train, ETC_train_prediction)\n",
    "ETC_train_precision = precision_score(Y_train, ETC_train_prediction)\n",
    "ETC_train_recall = recall_score(Y_train, ETC_train_prediction)\n",
    "\n",
    "ETC_test_accuracy = accuracy_score(Y_test, ETC_test_prediction)\n",
    "ETC_test_precision = precision_score(Y_test, ETC_test_prediction)\n",
    "ETC_test_recall = recall_score(Y_test, ETC_test_prediction)"
   ]
  },
  {
   "cell_type": "code",
   "execution_count": null,
   "metadata": {},
   "outputs": [],
   "source": [
    "print(\"Decision Tree Classifier AKA DTC:\")\n",
    "print(\"***\")\n",
    "print(\"Train Accuracy:\", DTC_train_accuracy)\n",
    "print(\"Train Precision:\", DTC_train_precision)\n",
    "print(\"Train Recall:\", DTC_train_recall)\n",
    "print(\"***\")\n",
    "print(\"Test Accuracy:\", DTC_test_accuracy)\n",
    "print(\"Test Precision:\", DTC_test_precision)\n",
    "print(\"Test Recall:\", DTC_test_recall)\n",
    "print()\n",
    "print()\n",
    "\n",
    "print(\"Logistic Extra Trees Classifier AKA ETC:\")\n",
    "print(\"***\")\n",
    "print(\"Train Accuracy:\", ETC_train_accuracy)\n",
    "print(\"Train Precision:\", ETC_train_precision)\n",
    "print(\"Train Recall:\", ETC_train_recall)\n",
    "print(\"***\")\n",
    "print(\"Test Accuracy:\", ETC_test_accuracy)\n",
    "print(\"Test Precision:\", ETC_test_precision)\n",
    "print(\"Test Recall:\", ETC_test_recall)"
   ]
  }
 ],
 "metadata": {
  "kernelspec": {
   "display_name": "Python 3",
   "language": "python",
   "name": "python3"
  },
  "language_info": {
   "codemirror_mode": {
    "name": "ipython",
    "version": 3
   },
   "file_extension": ".py",
   "mimetype": "text/x-python",
   "name": "python",
   "nbconvert_exporter": "python",
   "pygments_lexer": "ipython3",
   "version": "3.11.2"
  },
  "orig_nbformat": 4
 },
 "nbformat": 4,
 "nbformat_minor": 2
}
