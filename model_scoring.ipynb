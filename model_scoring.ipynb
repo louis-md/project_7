{
 "cells": [
  {
   "cell_type": "code",
   "execution_count": 1,
   "metadata": {},
   "outputs": [],
   "source": [
    "from sklearn.metrics import (\n",
    "    accuracy_score, precision_score, recall_score,\n",
    "    precision_recall_curve, roc_curve, roc_auc_score\n",
    ")\n",
    "\n",
    "import pprint\n",
    "\n",
    "from matplotlib import pyplot as plt\n",
    "\n",
    "\n",
    "def scoring(train, pred):\n",
    "        pprint.pprint(f'The accuracy score of the model is: {accuracy_score(train, pred)} ')\n",
    "        pprint.pprint(f'The precision score of the model is: {precision_score(train, pred)} ')\n",
    "        pprint.pprint(f'The recall score of the model is: {recall_score(train, pred)} ')\n",
    "        pprint.pprint(f'The ROC AUC score of the model is: {roc_auc_score(train, pred)} ')\n",
    "\n",
    "        fp, tp, _ = roc_curve(train, pred)\n",
    "        fig = plt.plot(fp, tp)\n",
    "        plt.xlabel('False positives')\n",
    "        plt.ylabel('True positives')\n",
    "        fig.show();\n",
    "\n"
   ]
  }
 ],
 "metadata": {
  "kernelspec": {
   "display_name": "Python 3",
   "language": "python",
   "name": "python3"
  },
  "language_info": {
   "codemirror_mode": {
    "name": "ipython",
    "version": 3
   },
   "file_extension": ".py",
   "mimetype": "text/x-python",
   "name": "python",
   "nbconvert_exporter": "python",
   "pygments_lexer": "ipython3",
   "version": "3.11.2"
  },
  "orig_nbformat": 4
 },
 "nbformat": 4,
 "nbformat_minor": 2
}
