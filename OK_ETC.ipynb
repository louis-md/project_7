{
 "cells": [
  {
   "attachments": {},
   "cell_type": "markdown",
   "metadata": {},
   "source": [
    "### Import Libraries"
   ]
  },
  {
   "cell_type": "code",
   "execution_count": 56,
   "metadata": {},
   "outputs": [],
   "source": [
    "# General-purpose libraries for operating system interactions, JSON data manipulation, and date/time handling.\n",
    "import os  # Interact with the operating system\n",
    "import json  # Work with JSON data\n",
    "from random import randint  # Generate random integers\n",
    "from time import sleep  # Introduce delays in code execution\n",
    "\n",
    "from datetime import datetime, timedelta  # Manipulate dates and times\n",
    "\n",
    "\n",
    "# Fundamental scientific computing libraries like NumPy and Pandas.\n",
    "import numpy as np  # Fundamental package for scientific computing\n",
    "import pandas as pd  # Data manipulation library\n",
    "\n",
    "\n",
    "# Specialized libraries for scientific computing, namely SciPy\n",
    "import scipy  # Scientific computing and technical computing library\n",
    "import scipy.stats as st\n",
    "\n",
    "# Web-related tasks, such as making HTTP requests, parsing HTML/XML data, and web scraping\n",
    "import requests as re  # Perform HTTP requests\n",
    "from bs4 import BeautifulSoup  # Parse HTML and XML data\n",
    "\n",
    "\n",
    "# Pretty-print Python data structures\n",
    "import pprint\n",
    "\n",
    "\n",
    "# Visualization oriented\n",
    "import matplotlib.pyplot as plt  # Create static visualizations\n",
    "import seaborn as sns  # Statistical data visualization\n",
    "from plotly import express as px  # Create interactive plots and charts\n",
    "\n",
    "\n",
    "# Machine learning : preprocessing, dimensionality reduction, one-hot encoding, and clustering\n",
    "import sklearn  # Machine learning library\n",
    "\n",
    "from sklearn import svm\n",
    "\n",
    "from sklearn.model_selection import train_test_split, cross_val_score\n",
    "\n",
    "from sklearn.preprocessing import StandardScaler  # Standardize features\n",
    "from sklearn.preprocessing import OneHotEncoder  # One-hot encode categorical features\n",
    "\n",
    "from sklearn.decomposition import PCA  # Perform dimensionality reduction\n",
    "from sklearn.cluster import KMeans  # Perform clustering\n",
    "\n",
    "from sklearn.metrics import (\n",
    "    accuracy_score, precision_score, recall_score,\n",
    "    precision_recall_curve, roc_curve, roc_auc_score\n",
    ")\n",
    "\n",
    "from model_scoring import scoring\n",
    "\n",
    "\n",
    "#Handling Imbalanced Datasets\n",
    "import imblearn  # Handle imbalanced datasets in machine learning\n",
    "\n",
    "\n",
    "#Web Scraping\n",
    "import scrapy  # Web scraping framework\n",
    "\n",
    "import pickle\n",
    "\n",
    "\n",
    "#Deep Learning\n",
    "# import pytorch  # Deep learning library"
   ]
  },
  {
   "attachments": {},
   "cell_type": "markdown",
   "metadata": {},
   "source": [
    "### Import Scaler"
   ]
  },
  {
   "cell_type": "code",
   "execution_count": 57,
   "metadata": {},
   "outputs": [],
   "source": [
    "def load(filename = \"scaler.pickle\"): \n",
    "    try: \n",
    "        with open(filename, \"rb\") as f: \n",
    "            return pickle.load(f) \n",
    "\n",
    "    except FileNotFoundError: \n",
    "        print(\"File not found!\")\n",
    "\n",
    "scaler = load(\"scaler.pickle\")"
   ]
  },
  {
   "attachments": {},
   "cell_type": "markdown",
   "metadata": {},
   "source": [
    "### Import Cleaned Data"
   ]
  },
  {
   "cell_type": "code",
   "execution_count": 58,
   "metadata": {},
   "outputs": [],
   "source": [
    "data = pd.read_csv('cleaned_data.csv')"
   ]
  },
  {
   "cell_type": "code",
   "execution_count": 59,
   "metadata": {},
   "outputs": [
    {
     "data": {
      "text/html": [
       "<div>\n",
       "<style scoped>\n",
       "    .dataframe tbody tr th:only-of-type {\n",
       "        vertical-align: middle;\n",
       "    }\n",
       "\n",
       "    .dataframe tbody tr th {\n",
       "        vertical-align: top;\n",
       "    }\n",
       "\n",
       "    .dataframe thead th {\n",
       "        text-align: right;\n",
       "    }\n",
       "</style>\n",
       "<table border=\"1\" class=\"dataframe\">\n",
       "  <thead>\n",
       "    <tr style=\"text-align: right;\">\n",
       "      <th></th>\n",
       "      <th>Bankrupt?</th>\n",
       "      <th>ROA(C) before interest and depreciation before interest</th>\n",
       "      <th>ROA(A) before interest and % after tax</th>\n",
       "      <th>Operating Gross Margin</th>\n",
       "      <th>Operating Profit Rate</th>\n",
       "      <th>Pre-tax net Interest Rate</th>\n",
       "      <th>Non-industry income and expenditure/revenue</th>\n",
       "      <th>Operating Expense Rate</th>\n",
       "      <th>Research and development expense rate</th>\n",
       "      <th>Cash flow rate</th>\n",
       "      <th>...</th>\n",
       "      <th>Cash Flow to Equity</th>\n",
       "      <th>Current Liability to Current Assets</th>\n",
       "      <th>Liability-Assets Flag</th>\n",
       "      <th>Total assets to GNP price</th>\n",
       "      <th>No-credit Interval</th>\n",
       "      <th>Net Income to Stockholder's Equity</th>\n",
       "      <th>Degree of Financial Leverage (DFL)</th>\n",
       "      <th>Interest Coverage Ratio (Interest expense to EBIT)</th>\n",
       "      <th>Net Income Flag</th>\n",
       "      <th>Equity to Liability</th>\n",
       "    </tr>\n",
       "  </thead>\n",
       "  <tbody>\n",
       "    <tr>\n",
       "      <th>0</th>\n",
       "      <td>1</td>\n",
       "      <td>0.370594</td>\n",
       "      <td>0.424389</td>\n",
       "      <td>0.601457</td>\n",
       "      <td>0.998969</td>\n",
       "      <td>0.796887</td>\n",
       "      <td>0.302646</td>\n",
       "      <td>1.256969e-04</td>\n",
       "      <td>0.0</td>\n",
       "      <td>0.458143</td>\n",
       "      <td>...</td>\n",
       "      <td>0.312905</td>\n",
       "      <td>0.118250</td>\n",
       "      <td>0</td>\n",
       "      <td>0.009219</td>\n",
       "      <td>0.622879</td>\n",
       "      <td>0.827890</td>\n",
       "      <td>0.026601</td>\n",
       "      <td>0.564050</td>\n",
       "      <td>1</td>\n",
       "      <td>0.016469</td>\n",
       "    </tr>\n",
       "    <tr>\n",
       "      <th>1</th>\n",
       "      <td>1</td>\n",
       "      <td>0.464291</td>\n",
       "      <td>0.538214</td>\n",
       "      <td>0.610235</td>\n",
       "      <td>0.998946</td>\n",
       "      <td>0.797380</td>\n",
       "      <td>0.303556</td>\n",
       "      <td>2.897851e-04</td>\n",
       "      <td>0.0</td>\n",
       "      <td>0.461867</td>\n",
       "      <td>...</td>\n",
       "      <td>0.314163</td>\n",
       "      <td>0.047775</td>\n",
       "      <td>0</td>\n",
       "      <td>0.008323</td>\n",
       "      <td>0.623652</td>\n",
       "      <td>0.839969</td>\n",
       "      <td>0.264577</td>\n",
       "      <td>0.570175</td>\n",
       "      <td>1</td>\n",
       "      <td>0.020794</td>\n",
       "    </tr>\n",
       "    <tr>\n",
       "      <th>2</th>\n",
       "      <td>1</td>\n",
       "      <td>0.426071</td>\n",
       "      <td>0.499019</td>\n",
       "      <td>0.601450</td>\n",
       "      <td>0.998857</td>\n",
       "      <td>0.796403</td>\n",
       "      <td>0.302035</td>\n",
       "      <td>2.361297e-04</td>\n",
       "      <td>25500000.0</td>\n",
       "      <td>0.458521</td>\n",
       "      <td>...</td>\n",
       "      <td>0.314515</td>\n",
       "      <td>0.025346</td>\n",
       "      <td>0</td>\n",
       "      <td>0.040003</td>\n",
       "      <td>0.623841</td>\n",
       "      <td>0.836774</td>\n",
       "      <td>0.026555</td>\n",
       "      <td>0.563706</td>\n",
       "      <td>1</td>\n",
       "      <td>0.016474</td>\n",
       "    </tr>\n",
       "    <tr>\n",
       "      <th>3</th>\n",
       "      <td>1</td>\n",
       "      <td>0.399844</td>\n",
       "      <td>0.451265</td>\n",
       "      <td>0.583541</td>\n",
       "      <td>0.998700</td>\n",
       "      <td>0.796967</td>\n",
       "      <td>0.303350</td>\n",
       "      <td>1.078888e-04</td>\n",
       "      <td>0.0</td>\n",
       "      <td>0.465705</td>\n",
       "      <td>...</td>\n",
       "      <td>0.302382</td>\n",
       "      <td>0.067250</td>\n",
       "      <td>0</td>\n",
       "      <td>0.003252</td>\n",
       "      <td>0.622929</td>\n",
       "      <td>0.834697</td>\n",
       "      <td>0.026697</td>\n",
       "      <td>0.564663</td>\n",
       "      <td>1</td>\n",
       "      <td>0.023982</td>\n",
       "    </tr>\n",
       "    <tr>\n",
       "      <th>4</th>\n",
       "      <td>1</td>\n",
       "      <td>0.465022</td>\n",
       "      <td>0.538432</td>\n",
       "      <td>0.598783</td>\n",
       "      <td>0.998973</td>\n",
       "      <td>0.797366</td>\n",
       "      <td>0.303475</td>\n",
       "      <td>7.890000e+09</td>\n",
       "      <td>0.0</td>\n",
       "      <td>0.462746</td>\n",
       "      <td>...</td>\n",
       "      <td>0.311567</td>\n",
       "      <td>0.047725</td>\n",
       "      <td>0</td>\n",
       "      <td>0.003878</td>\n",
       "      <td>0.623521</td>\n",
       "      <td>0.839973</td>\n",
       "      <td>0.024752</td>\n",
       "      <td>0.575617</td>\n",
       "      <td>1</td>\n",
       "      <td>0.035490</td>\n",
       "    </tr>\n",
       "  </tbody>\n",
       "</table>\n",
       "<p>5 rows × 80 columns</p>\n",
       "</div>"
      ],
      "text/plain": [
       "   Bankrupt?   ROA(C) before interest and depreciation before interest  \\\n",
       "0          1                                           0.370594          \n",
       "1          1                                           0.464291          \n",
       "2          1                                           0.426071          \n",
       "3          1                                           0.399844          \n",
       "4          1                                           0.465022          \n",
       "\n",
       "    ROA(A) before interest and % after tax   Operating Gross Margin  \\\n",
       "0                                 0.424389                 0.601457   \n",
       "1                                 0.538214                 0.610235   \n",
       "2                                 0.499019                 0.601450   \n",
       "3                                 0.451265                 0.583541   \n",
       "4                                 0.538432                 0.598783   \n",
       "\n",
       "    Operating Profit Rate   Pre-tax net Interest Rate  \\\n",
       "0                0.998969                    0.796887   \n",
       "1                0.998946                    0.797380   \n",
       "2                0.998857                    0.796403   \n",
       "3                0.998700                    0.796967   \n",
       "4                0.998973                    0.797366   \n",
       "\n",
       "    Non-industry income and expenditure/revenue   Operating Expense Rate  \\\n",
       "0                                      0.302646             1.256969e-04   \n",
       "1                                      0.303556             2.897851e-04   \n",
       "2                                      0.302035             2.361297e-04   \n",
       "3                                      0.303350             1.078888e-04   \n",
       "4                                      0.303475             7.890000e+09   \n",
       "\n",
       "    Research and development expense rate   Cash flow rate  ...  \\\n",
       "0                                     0.0         0.458143  ...   \n",
       "1                                     0.0         0.461867  ...   \n",
       "2                              25500000.0         0.458521  ...   \n",
       "3                                     0.0         0.465705  ...   \n",
       "4                                     0.0         0.462746  ...   \n",
       "\n",
       "    Cash Flow to Equity   Current Liability to Current Assets  \\\n",
       "0              0.312905                              0.118250   \n",
       "1              0.314163                              0.047775   \n",
       "2              0.314515                              0.025346   \n",
       "3              0.302382                              0.067250   \n",
       "4              0.311567                              0.047725   \n",
       "\n",
       "    Liability-Assets Flag   Total assets to GNP price   No-credit Interval  \\\n",
       "0                       0                    0.009219             0.622879   \n",
       "1                       0                    0.008323             0.623652   \n",
       "2                       0                    0.040003             0.623841   \n",
       "3                       0                    0.003252             0.622929   \n",
       "4                       0                    0.003878             0.623521   \n",
       "\n",
       "    Net Income to Stockholder's Equity   Degree of Financial Leverage (DFL)  \\\n",
       "0                             0.827890                             0.026601   \n",
       "1                             0.839969                             0.264577   \n",
       "2                             0.836774                             0.026555   \n",
       "3                             0.834697                             0.026697   \n",
       "4                             0.839973                             0.024752   \n",
       "\n",
       "    Interest Coverage Ratio (Interest expense to EBIT)   Net Income Flag  \\\n",
       "0                                           0.564050                   1   \n",
       "1                                           0.570175                   1   \n",
       "2                                           0.563706                   1   \n",
       "3                                           0.564663                   1   \n",
       "4                                           0.575617                   1   \n",
       "\n",
       "    Equity to Liability  \n",
       "0              0.016469  \n",
       "1              0.020794  \n",
       "2              0.016474  \n",
       "3              0.023982  \n",
       "4              0.035490  \n",
       "\n",
       "[5 rows x 80 columns]"
      ]
     },
     "execution_count": 59,
     "metadata": {},
     "output_type": "execute_result"
    }
   ],
   "source": [
    "data.head()"
   ]
  },
  {
   "cell_type": "code",
   "execution_count": 60,
   "metadata": {},
   "outputs": [
    {
     "name": "stdout",
     "output_type": "stream",
     "text": [
      "['Bankrupt?', ' ROA(C) before interest and depreciation before interest', ' ROA(A) before interest and % after tax', ' Operating Gross Margin', ' Operating Profit Rate', ' Pre-tax net Interest Rate', ' Non-industry income and expenditure/revenue', ' Operating Expense Rate', ' Research and development expense rate', ' Cash flow rate', ' Interest-bearing debt interest rate', ' Tax rate (A)', ' Net Value Per Share (B)', ' Persistent EPS in the Last Four Seasons', ' Cash Flow Per Share', ' Revenue Per Share (Yuan ¥)', ' Operating Profit Per Share (Yuan ¥)', ' Realized Sales Gross Profit Growth Rate', ' Operating Profit Growth Rate', ' After-tax Net Profit Growth Rate', ' Continuous Net Profit Growth Rate', ' Total Asset Growth Rate', ' Net Value Growth Rate', ' Total Asset Return Growth Rate Ratio', ' Cash Reinvestment %', ' Current Ratio', ' Quick Ratio', ' Interest Expense Ratio', ' Total debt/Total net worth', ' Debt ratio %', ' Long-term fund suitability ratio (A)', ' Borrowing dependency', ' Contingent liabilities/Net worth', ' Inventory and accounts receivable/Net value', ' Total Asset Turnover', ' Accounts Receivable Turnover', ' Average Collection Days', ' Inventory Turnover Rate (times)', ' Fixed Assets Turnover Frequency', ' Net Worth Turnover Rate (times)', ' Revenue per person', ' Operating profit per person', ' Allocation rate per person', ' Working Capital to Total Assets', ' Quick Assets/Total Assets', ' Current Assets/Total Assets', ' Cash/Total Assets', ' Quick Assets/Current Liability', ' Cash/Current Liability', ' Current Liability to Assets', ' Operating Funds to Liability', ' Inventory/Working Capital', ' Inventory/Current Liability', ' Current Liabilities/Liability', ' Working Capital/Equity', ' Current Liabilities/Equity', ' Long-term Liability to Current Assets', ' Retained Earnings to Total Assets', ' Total income/Total expense', ' Total expense/Assets', ' Current Asset Turnover Rate', ' Quick Asset Turnover Rate', ' Working capitcal Turnover Rate', ' Cash Turnover Rate', ' Cash Flow to Sales', ' Fixed Assets to Assets', ' Equity to Long-term Liability', ' Cash Flow to Total Assets', ' Cash Flow to Liability', ' CFO to Assets', ' Cash Flow to Equity', ' Current Liability to Current Assets', ' Liability-Assets Flag', ' Total assets to GNP price', ' No-credit Interval', \" Net Income to Stockholder's Equity\", ' Degree of Financial Leverage (DFL)', ' Interest Coverage Ratio (Interest expense to EBIT)', ' Net Income Flag', ' Equity to Liability']\n"
     ]
    }
   ],
   "source": [
    "column_names = list(data.columns)\n",
    "print(column_names)"
   ]
  },
  {
   "attachments": {},
   "cell_type": "markdown",
   "metadata": {},
   "source": [
    "### Create Training Folds"
   ]
  },
  {
   "cell_type": "code",
   "execution_count": 61,
   "metadata": {},
   "outputs": [],
   "source": [
    "from sklearn.model_selection import train_test_split\n",
    "from sklearn.metrics import accuracy_score, precision_score, recall_score"
   ]
  },
  {
   "cell_type": "code",
   "execution_count": 62,
   "metadata": {},
   "outputs": [],
   "source": [
    "X = data.drop(['Bankrupt?'], axis=1)\n",
    "Y = data['Bankrupt?']"
   ]
  },
  {
   "cell_type": "code",
   "execution_count": 63,
   "metadata": {},
   "outputs": [],
   "source": [
    "# Split the data into training and testing sets\n",
    "X_train, X_test, Y_train, Y_test = train_test_split( X, Y, test_size=.25, random_state=42)"
   ]
  },
  {
   "attachments": {},
   "cell_type": "markdown",
   "metadata": {},
   "source": [
    "### Train & Test Model"
   ]
  },
  {
   "cell_type": "code",
   "execution_count": 64,
   "metadata": {},
   "outputs": [],
   "source": [
    "from sklearn.ensemble import ExtraTreesClassifier"
   ]
  },
  {
   "cell_type": "code",
   "execution_count": 65,
   "metadata": {},
   "outputs": [],
   "source": [
    "# Create instances of ExtraTreesClassifier\n",
    "ETC_model = ExtraTreesClassifier()\n",
    "\n",
    "ETC_Y_pred = ETC_model.fit(X_train, Y_train)"
   ]
  },
  {
   "cell_type": "code",
   "execution_count": 66,
   "metadata": {},
   "outputs": [],
   "source": [
    "# Make predictions on train and test sets\n",
    "ETC_train_prediction = ETC_model.predict(X_train)\n",
    "\n",
    "ETC_test_prediction = ETC_model.predict(X_test)\n",
    "\n",
    "# Evaluation metrics for ExtraTreesClassifier\n",
    "ETC_train_accuracy = accuracy_score(Y_train, ETC_train_prediction)\n",
    "ETC_train_precision = precision_score(Y_train, ETC_train_prediction)\n",
    "ETC_train_recall = recall_score(Y_train, ETC_train_prediction)\n",
    "\n",
    "ETC_test_accuracy = accuracy_score(Y_test, ETC_test_prediction)\n",
    "ETC_test_precision = precision_score(Y_test, ETC_test_prediction)\n",
    "ETC_test_recall = recall_score(Y_test, ETC_test_prediction)"
   ]
  },
  {
   "cell_type": "code",
   "execution_count": 67,
   "metadata": {},
   "outputs": [
    {
     "name": "stdout",
     "output_type": "stream",
     "text": [
      "Extra Trees Classifier AKA ETC:\n",
      "***\n",
      "Train Accuracy: 1.0\n",
      "Train Precision: 1.0\n",
      "Train Recall: 1.0\n",
      "***\n",
      "Test Accuracy: 0.9700879765395894\n",
      "Test Precision: 0.8888888888888888\n",
      "Test Recall: 0.13793103448275862\n"
     ]
    }
   ],
   "source": [
    "print(\"Extra Trees Classifier AKA ETC:\")\n",
    "print(\"***\")\n",
    "print(\"Train Accuracy:\", ETC_train_accuracy)\n",
    "print(\"Train Precision:\", ETC_train_precision)\n",
    "print(\"Train Recall:\", ETC_train_recall)\n",
    "print(\"***\")\n",
    "print(\"Test Accuracy:\", ETC_test_accuracy)\n",
    "print(\"Test Precision:\", ETC_test_precision)\n",
    "print(\"Test Recall:\", ETC_test_recall)"
   ]
  },
  {
   "attachments": {},
   "cell_type": "markdown",
   "metadata": {},
   "source": [
    "### Import Scoring func"
   ]
  },
  {
   "cell_type": "code",
   "execution_count": 68,
   "metadata": {},
   "outputs": [],
   "source": [
    "from model_scoring import scoring"
   ]
  },
  {
   "cell_type": "code",
   "execution_count": 69,
   "metadata": {},
   "outputs": [
    {
     "name": "stdout",
     "output_type": "stream",
     "text": [
      "'The accuracy score of the model is: 1.0 '\n",
      "'The precision score of the model is: 1.0 '\n",
      "'The recall score of the model is: 1.0 '\n",
      "'The ROC AUC score of the model is: 1.0 '\n"
     ]
    },
    {
     "data": {
      "image/png": "[encoded data removed]",
      "text/plain": [
       "<Figure size 640x480 with 1 Axes>"
      ]
     },
     "metadata": {},
     "output_type": "display_data"
    }
   ],
   "source": [
    "scoring(Y_train, ETC_train_prediction)"
   ]
  },
  {
   "cell_type": "code",
   "execution_count": 70,
   "metadata": {},
   "outputs": [
    {
     "name": "stdout",
     "output_type": "stream",
     "text": [
      "'The accuracy score of the model is: 0.9700879765395894 '\n",
      "'The precision score of the model is: 0.8888888888888888 '\n",
      "'The recall score of the model is: 0.13793103448275862 '\n",
      "'The ROC AUC score of the model is: 0.5686619349705839 '\n"
     ]
    },
    {
     "data": {
      "image/png": "[encoded data removed]",
      "text/plain": [
       "<Figure size 640x480 with 1 Axes>"
      ]
     },
     "metadata": {},
     "output_type": "display_data"
    }
   ],
   "source": [
    "scoring(Y_test, ETC_test_prediction)"
   ]
  }
 ],
 "metadata": {
  "kernelspec": {
   "display_name": "Python 3",
   "language": "python",
   "name": "python3"
  },
  "language_info": {
   "codemirror_mode": {
    "name": "ipython",
    "version": 3
   },
   "file_extension": ".py",
   "mimetype": "text/x-python",
   "name": "python",
   "nbconvert_exporter": "python",
   "pygments_lexer": "ipython3",
   "version": "3.9.16"
  },
  "orig_nbformat": 4
 },
 "nbformat": 4,
 "nbformat_minor": 2
}
